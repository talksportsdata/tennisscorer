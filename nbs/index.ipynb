{
 "cells": [
  {
   "cell_type": "code",
   "execution_count": 3,
   "metadata": {},
   "outputs": [],
   "source": [
    "#hide\n",
    "import random\n",
    "from tennisscorer.core import *"
   ]
  },
  {
   "cell_type": "markdown",
   "metadata": {},
   "source": [
    "# Tennisscorer\n",
    "\n",
    "> A Python library that allows you to track you tennis score."
   ]
  },
  {
   "cell_type": "markdown",
   "metadata": {},
   "source": [
    "## Install"
   ]
  },
  {
   "cell_type": "markdown",
   "metadata": {},
   "source": [
    "`pip install tennisscorer`"
   ]
  },
  {
   "cell_type": "markdown",
   "metadata": {},
   "source": [
    "## How to use"
   ]
  },
  {
   "cell_type": "markdown",
   "metadata": {},
   "source": [
    "Use the `SetTracker`."
   ]
  },
  {
   "cell_type": "code",
   "execution_count": 4,
   "metadata": {},
   "outputs": [
    {
     "name": "stdout",
     "output_type": "stream",
     "text": [
      "SetTracker(12, 12), TiebreakScorer(0, 1)\n",
      "SetTracker(12, 12), TiebreakScorer(1, 1)\n",
      "SetTracker(12, 12), TiebreakScorer(1, 2)\n",
      "SetTracker(12, 12), TiebreakScorer(1, 3)\n",
      "SetTracker(12, 12), TiebreakScorer(1, 4)\n",
      "SetTracker(12, 12), TiebreakScorer(1, 5)\n",
      "SetTracker(12, 12), TiebreakScorer(1, 6)\n",
      "SetTracker(12, 12), TiebreakScorer(2, 6)\n",
      "SetTracker(12, 13), TiebreakScorer(2, 7)\n",
      "Game is over.\n",
      "False\n"
     ]
    }
   ],
   "source": [
    "scores = random.choices(population=[True, False], k=20)\n",
    "final_set = SetTracker(12, 12, final_point=12)\n",
    "\n",
    "for score in scores:\n",
    "    final_set.increase(score)\n",
    "    print(final_set)\n",
    "    if final_set.finished:\n",
    "        print('Game is over.')\n",
    "        print(final_set.is_winner_home)\n",
    "        break"
   ]
  },
  {
   "cell_type": "code",
   "execution_count": null,
   "metadata": {},
   "outputs": [],
   "source": []
  }
 ],
 "metadata": {
  "hide_input": false,
  "kernelspec": {
   "display_name": "Python [default]",
   "language": "python",
   "name": "python3"
  },
  "language_info": {
   "codemirror_mode": {
    "name": "ipython",
    "version": 3
   },
   "file_extension": ".py",
   "mimetype": "text/x-python",
   "name": "python",
   "nbconvert_exporter": "python",
   "pygments_lexer": "ipython3",
   "version": "3.6.8"
  },
  "toc": {
   "base_numbering": 1,
   "nav_menu": {},
   "number_sections": true,
   "sideBar": true,
   "skip_h1_title": false,
   "title_cell": "Table of Contents",
   "title_sidebar": "Contents",
   "toc_cell": false,
   "toc_position": {},
   "toc_section_display": true,
   "toc_window_display": false
  }
 },
 "nbformat": 4,
 "nbformat_minor": 2
}
